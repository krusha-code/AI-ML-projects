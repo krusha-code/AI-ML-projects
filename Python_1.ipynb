{
  "nbformat": 4,
  "nbformat_minor": 0,
  "metadata": {
    "colab": {
      "provenance": []
    },
    "kernelspec": {
      "name": "python3",
      "display_name": "Python 3"
    },
    "language_info": {
      "name": "python"
    }
  },
  "cells": [
    {
      "cell_type": "markdown",
      "source": [
        "function is reuseable pices of code"
      ],
      "metadata": {
        "id": "9bUD00kEIs0a"
      }
    },
    {
      "cell_type": "code",
      "execution_count": null,
      "metadata": {
        "colab": {
          "base_uri": "https://localhost:8080/"
        },
        "id": "R0z6E9lV15qK",
        "outputId": "7bca159d-fa93-4053-e247-6e64f3938ec0"
      },
      "outputs": [
        {
          "output_type": "stream",
          "name": "stdout",
          "text": [
            "hello py\n"
          ]
        }
      ],
      "source": [
        "print ('hello py')"
      ]
    },
    {
      "cell_type": "code",
      "source": [
        "#sum of square\n",
        "def sum_of_square(n):\n",
        "  sum_of_square=0\n",
        "  for i in range(2,n*2+1,2):\n",
        "    sum_of_square=sum_of_square+i*i\n",
        "  return sum_of_square\n",
        "print(sum_of_square(5))"
      ],
      "metadata": {
        "colab": {
          "base_uri": "https://localhost:8080/"
        },
        "id": "3xuOJwbR2CaW",
        "outputId": "c576d695-54a5-414e-f21e-a588de7c8b0b"
      },
      "execution_count": null,
      "outputs": [
        {
          "output_type": "stream",
          "name": "stdout",
          "text": [
            "220\n"
          ]
        }
      ]
    },
    {
      "cell_type": "code",
      "source": [
        "def name_str(str='krusha patel', num_of_times=7):\n",
        "    for   i in range (1,num_of_times+1):\n",
        "        print(str)\n",
        "#name_str('welcome to python ',7)\n",
        "name_str()\n",
        "#name_str(7.8,5)\n",
        "#name_str(4,'four')"
      ],
      "metadata": {
        "colab": {
          "base_uri": "https://localhost:8080/"
        },
        "id": "wQH_PnT16sXu",
        "outputId": "dc9b7f13-1e81-4a90-9b27-3c9600f3cadd"
      },
      "execution_count": null,
      "outputs": [
        {
          "output_type": "stream",
          "name": "stdout",
          "text": [
            "krusha patel\n",
            "krusha patel\n",
            "krusha patel\n",
            "krusha patel\n",
            "krusha patel\n",
            "krusha patel\n",
            "krusha patel\n"
          ]
        }
      ]
    },
    {
      "cell_type": "code",
      "source": [
        "def great_user(user='krusha'):\n",
        "  print('hello',{user})\n",
        "great_user('alice')\n",
        "great_user()\n",
        "great_user('milin')\n"
      ],
      "metadata": {
        "colab": {
          "base_uri": "https://localhost:8080/"
        },
        "id": "EdLk4QlqAbts",
        "outputId": "92ee05c2-f4c4-4e28-d0ce-1dc692716a0a"
      },
      "execution_count": null,
      "outputs": [
        {
          "output_type": "stream",
          "name": "stdout",
          "text": [
            "hello {'alice'}\n",
            "hello {'krusha'}\n",
            "hello {'milin'}\n"
          ]
        }
      ]
    },
    {
      "cell_type": "code",
      "source": [
        "def method_of_indendation():\n",
        "  for i in range(1,11):\n",
        "    print(i)\n",
        "  print(7)\n",
        "method_of_indendation()\n"
      ],
      "metadata": {
        "colab": {
          "base_uri": "https://localhost:8080/"
        },
        "id": "jxvgW-MEAwVX",
        "outputId": "c732fbf5-5ffe-4bc2-889a-fe3f2905a309"
      },
      "execution_count": null,
      "outputs": [
        {
          "output_type": "stream",
          "name": "stdout",
          "text": [
            "1\n",
            "2\n",
            "3\n",
            "4\n",
            "5\n",
            "6\n",
            "7\n",
            "8\n",
            "9\n",
            "10\n",
            "7\n"
          ]
        }
      ]
    },
    {
      "cell_type": "code",
      "source": [
        "def add_two_numbers(a,b):\n",
        "  return a+b\n",
        "def mul_res(x,y):\n",
        "  result=add_two_numbers(x,y)\n",
        "  return result*2\n",
        "mul_res(1,2)"
      ],
      "metadata": {
        "colab": {
          "base_uri": "https://localhost:8080/"
        },
        "id": "eGZKxfT8Cx2h",
        "outputId": "0de7be47-0881-4fdf-ab9b-3f8e43a19056"
      },
      "execution_count": null,
      "outputs": [
        {
          "output_type": "execute_result",
          "data": {
            "text/plain": [
              "6"
            ]
          },
          "metadata": {},
          "execution_count": 25
        }
      ]
    },
    {
      "cell_type": "code",
      "source": [
        "def my_function():\n",
        "    pass\n",
        "my_function()"
      ],
      "metadata": {
        "id": "fV5Or6p4DCLY"
      },
      "execution_count": null,
      "outputs": []
    },
    {
      "cell_type": "code",
      "source": [
        "#factorial number\n",
        "def calculate_factorial(n):\n",
        "  factorial=1\n",
        "  for i in range (1,n+1):\n",
        "   factorial=factorial*i\n",
        "\n",
        "  return factorial\n",
        "\n",
        "print(calculate_factorial(7))\n"
      ],
      "metadata": {
        "colab": {
          "base_uri": "https://localhost:8080/"
        },
        "id": "DpXvK42eDy3a",
        "outputId": "99a2eb0a-0533-4162-af48-63a6559d3aa5"
      },
      "execution_count": null,
      "outputs": [
        {
          "output_type": "stream",
          "name": "stdout",
          "text": [
            "5040\n"
          ]
        }
      ]
    },
    {
      "cell_type": "code",
      "source": [
        "#factorial num\n",
        "def facttorial_num(num):\n",
        "  if type(num) !=int:\n",
        "    return None\n",
        "  if num<0:\n",
        "    return None\n",
        "  if num*0:\n",
        "    return 1\n",
        "  return num*facttorial_num(num-1)\n",
        "  print (num(3))"
      ],
      "metadata": {
        "id": "t6s6HgAfxA6u"
      },
      "execution_count": null,
      "outputs": []
    },
    {
      "cell_type": "code",
      "source": [
        "n1=7\n",
        "n2=3\n",
        "print(n1//n2)\n",
        "print(type(n1//n2))"
      ],
      "metadata": {
        "colab": {
          "base_uri": "https://localhost:8080/"
        },
        "id": "_yDqzdMnGcRN",
        "outputId": "2a3b8ac1-df5b-477d-ef78-19c709542436"
      },
      "execution_count": null,
      "outputs": [
        {
          "output_type": "stream",
          "name": "stdout",
          "text": [
            "2\n",
            "<class 'int'>\n"
          ]
        }
      ]
    },
    {
      "cell_type": "code",
      "source": [
        "#exponantation operator\n",
        "print(5**5)\n",
        "print (pow(5,3))"
      ],
      "metadata": {
        "colab": {
          "base_uri": "https://localhost:8080/"
        },
        "id": "UFE8zcU3-33m",
        "outputId": "ab543685-444d-4c27-8934-35b73aaeece8"
      },
      "execution_count": null,
      "outputs": [
        {
          "output_type": "stream",
          "name": "stdout",
          "text": [
            "3125\n",
            "125\n"
          ]
        }
      ]
    },
    {
      "cell_type": "code",
      "source": [
        "print(int(4.3+5.8))\n",
        "print(int(6.6))\n",
        "print(float(4))"
      ],
      "metadata": {
        "colab": {
          "base_uri": "https://localhost:8080/"
        },
        "id": "I0AVWCJ__CQI",
        "outputId": "dd76c3b0-5d5b-49ae-f4d4-fb0c753b44b6"
      },
      "execution_count": null,
      "outputs": [
        {
          "output_type": "stream",
          "name": "stdout",
          "text": [
            "10\n",
            "6\n",
            "4.0\n"
          ]
        }
      ]
    },
    {
      "cell_type": "code",
      "source": [
        "print(round(3.3+3.3))\n",
        "print(round(3.3234,2))"
      ],
      "metadata": {
        "colab": {
          "base_uri": "https://localhost:8080/"
        },
        "id": "_uRmy9GO_C6S",
        "outputId": "7a9a0472-07b5-4a19-8284-e8868e4baa9b"
      },
      "execution_count": null,
      "outputs": [
        {
          "output_type": "stream",
          "name": "stdout",
          "text": [
            "7\n",
            "3.32\n"
          ]
        }
      ]
    },
    {
      "cell_type": "code",
      "source": [
        "from decimal import Decimal,getcontext\n",
        "getcontext()\n",
        "getcontext().prec=4\n",
        "Decimal(1)/Decimal(3)\n",
        "getcontext().prec=2\n",
        "Decimal(1)/Decimal(3)\n",
        "Decimal(3.14)\n",
        "round(1.2-1.0)"
      ],
      "metadata": {
        "colab": {
          "base_uri": "https://localhost:8080/"
        },
        "id": "yCC3KNvGOB-P",
        "outputId": "3caea79f-51d7-40c3-d094-c38ab2fcf860"
      },
      "execution_count": null,
      "outputs": [
        {
          "output_type": "execute_result",
          "data": {
            "text/plain": [
              "0"
            ]
          },
          "metadata": {},
          "execution_count": 8
        }
      ]
    },
    {
      "cell_type": "code",
      "source": [
        "bool(0)\n",
        "bool(1)\n",
        "bool(0j)\n",
        "bool(1j)"
      ],
      "metadata": {
        "colab": {
          "base_uri": "https://localhost:8080/"
        },
        "id": "FWbsvEEwmZOF",
        "outputId": "58437ee4-8f0c-48c7-d0a0-7e1d631f9ae2"
      },
      "execution_count": null,
      "outputs": [
        {
          "output_type": "execute_result",
          "data": {
            "text/plain": [
              "True"
            ]
          },
          "metadata": {},
          "execution_count": 13
        }
      ]
    },
    {
      "cell_type": "code",
      "source": [
        "bool(True)\n",
        "bool(False)\n",
        "bool('')\n",
        "bool([])\n",
        "bool(2.2)\n",
        "bool(None)"
      ],
      "metadata": {
        "colab": {
          "base_uri": "https://localhost:8080/"
        },
        "id": "IIF_ZtiCnLoA",
        "outputId": "5003cc12-7065-4c5c-e14d-44a06539e619"
      },
      "execution_count": null,
      "outputs": [
        {
          "output_type": "execute_result",
          "data": {
            "text/plain": [
              "False"
            ]
          },
          "metadata": {},
          "execution_count": 19
        }
      ]
    },
    {
      "cell_type": "code",
      "source": [
        "a=2\n",
        "b=4\n",
        "if a==b:\n",
        "  print('both are same')\n",
        "if a!=b:\n",
        "  print('both are not equal')"
      ],
      "metadata": {
        "colab": {
          "base_uri": "https://localhost:8080/"
        },
        "id": "lts3JfP8oAlj",
        "outputId": "41973046-1991-44de-cbf6-1591b7e6adfc"
      },
      "execution_count": null,
      "outputs": [
        {
          "output_type": "stream",
          "name": "stdout",
          "text": [
            "both are not equal\n"
          ]
        }
      ]
    },
    {
      "cell_type": "code",
      "source": [
        "Wether_isnice=True\n",
        "use_umbralla=False\n",
        "if (Wether_isnice or use_umbralla):\n",
        "    print(\"go for walk\")\n"
      ],
      "metadata": {
        "colab": {
          "base_uri": "https://localhost:8080/"
        },
        "id": "ikSWW910pYil",
        "outputId": "05237135-23f4-47a8-d432-c5ecb3628d9d"
      },
      "execution_count": null,
      "outputs": [
        {
          "output_type": "stream",
          "name": "stdout",
          "text": [
            "go for walk\n"
          ]
        }
      ]
    },
    {
      "cell_type": "code",
      "source": [
        "from ctypes import LittleEndianStructure\n",
        "#scling\n",
        "my_name='hello my name is krusha and  learning python'\n",
        "len(my_name)\n",
        "my_name[4:40]\n",
        "my_list=[1,11,2,22,3,33,4,55]\n",
        "my_list[3:]\n",
        "len(my_list)"
      ],
      "metadata": {
        "colab": {
          "base_uri": "https://localhost:8080/"
        },
        "id": "XYQVb4dnFmI-",
        "outputId": "6caabd1d-e9bf-44aa-d3fa-e980aab5e0a0"
      },
      "execution_count": null,
      "outputs": [
        {
          "output_type": "execute_result",
          "data": {
            "text/plain": [
              "8"
            ]
          },
          "metadata": {},
          "execution_count": 17
        }
      ]
    },
    {
      "cell_type": "code",
      "source": [
        "#formating\n",
        "f'my lucky number is :{7}'"
      ],
      "metadata": {
        "colab": {
          "base_uri": "https://localhost:8080/",
          "height": 35
        },
        "id": "lCUOZCX8JSDB",
        "outputId": "c329a724-4952-4da3-a522-e85e43cb56a8"
      },
      "execution_count": null,
      "outputs": [
        {
          "output_type": "execute_result",
          "data": {
            "text/plain": [
              "'my lucky number is :7'"
            ],
            "application/vnd.google.colaboratory.intrinsic+json": {
              "type": "string"
            }
          },
          "metadata": {},
          "execution_count": 18
        }
      ]
    },
    {
      "cell_type": "code",
      "source": [
        "f'my lucky number :{6+1} and secound is {7*2}'"
      ],
      "metadata": {
        "colab": {
          "base_uri": "https://localhost:8080/",
          "height": 35
        },
        "id": "KA6G0PQPPOhR",
        "outputId": "dc462ac2-7fb5-4f82-b12c-abf701bfaa66"
      },
      "execution_count": null,
      "outputs": [
        {
          "output_type": "execute_result",
          "data": {
            "text/plain": [
              "'my lucky number :7 and secound is 14'"
            ],
            "application/vnd.google.colaboratory.intrinsic+json": {
              "type": "string"
            }
          },
          "metadata": {},
          "execution_count": 20
        }
      ]
    },
    {
      "cell_type": "code",
      "source": [
        "import math\n",
        "f'pi is :{math.pi:.2f}'"
      ],
      "metadata": {
        "colab": {
          "base_uri": "https://localhost:8080/",
          "height": 35
        },
        "id": "Q4fqrfdpPq93",
        "outputId": "1732bc34-e3aa-41b2-be06-8dc59169ce3f"
      },
      "execution_count": null,
      "outputs": [
        {
          "output_type": "execute_result",
          "data": {
            "text/plain": [
              "'pi is :3.14'"
            ],
            "application/vnd.google.colaboratory.intrinsic+json": {
              "type": "string"
            }
          },
          "metadata": {},
          "execution_count": 21
        }
      ]
    },
    {
      "cell_type": "code",
      "source": [
        "my_str='''\n",
        "hear is long block of code\n",
        "'''"
      ],
      "metadata": {
        "id": "D1Rs4JtMQHlb"
      },
      "execution_count": null,
      "outputs": []
    },
    {
      "cell_type": "markdown",
      "source": [],
      "metadata": {
        "id": "NfI3TewDnK7i"
      }
    }
  ]
}