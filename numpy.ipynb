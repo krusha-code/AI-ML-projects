{
  "nbformat": 4,
  "nbformat_minor": 0,
  "metadata": {
    "colab": {
      "provenance": []
    },
    "kernelspec": {
      "name": "python3",
      "display_name": "Python 3"
    },
    "language_info": {
      "name": "python"
    }
  },
  "cells": [
    {
      "cell_type": "code",
      "execution_count": null,
      "metadata": {
        "colab": {
          "base_uri": "https://localhost:8080/"
        },
        "id": "EeIJSzNtfWmw",
        "outputId": "729132fa-1499-4d73-e89c-fbc8b1fc32ed"
      },
      "outputs": [
        {
          "output_type": "stream",
          "name": "stdout",
          "text": [
            "Requirement already satisfied: numpy in /usr/local/lib/python3.11/dist-packages (2.0.2)\n"
          ]
        }
      ],
      "source": [
        "!pip3 install numpy\n"
      ]
    },
    {
      "cell_type": "code",
      "source": [],
      "metadata": {
        "id": "bLZxgEaQjmJI"
      },
      "execution_count": null,
      "outputs": []
    },
    {
      "cell_type": "code",
      "source": [
        "import numpy as np\n"
      ],
      "metadata": {
        "id": "f2teWKNlhspt"
      },
      "execution_count": null,
      "outputs": []
    },
    {
      "cell_type": "code",
      "source": [
        "import time\n",
        "size =1000000\n",
        "l1=list(range(size))\n",
        "l2=list(range(size))\n",
        "\n",
        "start= time.time()\n",
        "res=[]\n",
        "for i in range (size):\n",
        "  res.append(l1[i]+l2[i])\n",
        "end=time.time()\n",
        "print('time tazken byb python list' ,end-start)"
      ],
      "metadata": {
        "colab": {
          "base_uri": "https://localhost:8080/"
        },
        "id": "042l1Ejgh4rh",
        "outputId": "a1da28ea-1e47-4e5c-a04a-5b02b87910ca"
      },
      "execution_count": null,
      "outputs": [
        {
          "output_type": "stream",
          "name": "stdout",
          "text": [
            "time tazken byb python list 0.23656558990478516\n"
          ]
        }
      ]
    },
    {
      "cell_type": "code",
      "source": [
        "array1= np.arange(size)\n",
        "array2= np.arange(size)\n",
        "\n",
        "start2=time.time()\n",
        "result=array1+array2\n",
        "end2= time.time()\n",
        "print(\"time taken by num py,\",end2-start2)"
      ],
      "metadata": {
        "colab": {
          "base_uri": "https://localhost:8080/"
        },
        "id": "BIOpmOjWjaTY",
        "outputId": "6a75ed67-d238-46c9-d82e-f0c91cbf3b35"
      },
      "execution_count": null,
      "outputs": [
        {
          "output_type": "stream",
          "name": "stdout",
          "text": [
            "time taken by num py, 0.0160367488861084\n"
          ]
        }
      ]
    },
    {
      "cell_type": "code",
      "source": [
        "#checking datatype of array --> int 64 , int 32,\n",
        "np.dtype(array1)"
      ],
      "metadata": {
        "colab": {
          "base_uri": "https://localhost:8080/",
          "height": 158
        },
        "id": "qeuXRnFmiwtS",
        "outputId": "4ff8e087-6a98-4cce-f74e-ceb05e86caf5"
      },
      "execution_count": null,
      "outputs": [
        {
          "output_type": "error",
          "ename": "TypeError",
          "evalue": "Cannot construct a dtype from an array",
          "traceback": [
            "\u001b[0;31m---------------------------------------------------------------------------\u001b[0m",
            "\u001b[0;31mTypeError\u001b[0m                                 Traceback (most recent call last)",
            "\u001b[0;32m<ipython-input-7-c7d053551737>\u001b[0m in \u001b[0;36m<cell line: 0>\u001b[0;34m()\u001b[0m\n\u001b[1;32m      1\u001b[0m \u001b[0;31m#checking datatype of array --> int 64 , int 32,\u001b[0m\u001b[0;34m\u001b[0m\u001b[0;34m\u001b[0m\u001b[0m\n\u001b[0;32m----> 2\u001b[0;31m \u001b[0mnp\u001b[0m\u001b[0;34m.\u001b[0m\u001b[0mdtype\u001b[0m\u001b[0;34m(\u001b[0m\u001b[0marray1\u001b[0m\u001b[0;34m)\u001b[0m\u001b[0;34m\u001b[0m\u001b[0;34m\u001b[0m\u001b[0m\n\u001b[0m",
            "\u001b[0;31mTypeError\u001b[0m: Cannot construct a dtype from an array"
          ]
        }
      ]
    },
    {
      "cell_type": "code",
      "source": [
        "# formation of 1d array\n",
        "arr1d=np.array([1,2,3,4,5,6])\n",
        "arr1d\n"
      ],
      "metadata": {
        "colab": {
          "base_uri": "https://localhost:8080/"
        },
        "id": "9pAcNbu5lwBi",
        "outputId": "6da08176-448e-42d5-994f-6c83150da501"
      },
      "execution_count": null,
      "outputs": [
        {
          "output_type": "execute_result",
          "data": {
            "text/plain": [
              "array([1, 2, 3, 4, 5, 6])"
            ]
          },
          "metadata": {},
          "execution_count": 8
        }
      ]
    },
    {
      "cell_type": "code",
      "source": [
        "#formation of 2D array--> need atleast two 1D array\n",
        "arr2d=np.array([[1,2,3,4,5,6],\n",
        "                [2,3,4,5,6,7],\n",
        "                [23,45,67,78,98,21]])\n",
        "arr2d"
      ],
      "metadata": {
        "colab": {
          "base_uri": "https://localhost:8080/"
        },
        "id": "MPERkWtol_gV",
        "outputId": "d8e999fd-b166-4dba-ce91-57c2f0a56266"
      },
      "execution_count": null,
      "outputs": [
        {
          "output_type": "execute_result",
          "data": {
            "text/plain": [
              "array([[ 1,  2,  3,  4,  5,  6],\n",
              "       [ 2,  3,  4,  5,  6,  7],\n",
              "       [23, 45, 67, 78, 98, 21]])"
            ]
          },
          "metadata": {},
          "execution_count": 11
        }
      ]
    },
    {
      "cell_type": "code",
      "source": [
        "#formation of 3D array  --> need atleast two 3d array\n",
        "array3D=np.array([\n",
        "           [[1,2,34,4,2],\n",
        "             [2,43,4,65,3]],\n",
        "          [[11,22,33,44,55],[11,22,44,66,77]],\n",
        "           [[11,4.3,56,87,99],[11,22,33,44,55]]])\n",
        "array3D"
      ],
      "metadata": {
        "colab": {
          "base_uri": "https://localhost:8080/"
        },
        "id": "4oIKKHQUnDae",
        "outputId": "5e8cdb08-d03a-494c-b18f-0439c539d9b4"
      },
      "execution_count": null,
      "outputs": [
        {
          "output_type": "execute_result",
          "data": {
            "text/plain": [
              "array([[[ 1. ,  2. , 34. ,  4. ,  2. ],\n",
              "        [ 2. , 43. ,  4. , 65. ,  3. ]],\n",
              "\n",
              "       [[11. , 22. , 33. , 44. , 55. ],\n",
              "        [11. , 22. , 44. , 66. , 77. ]],\n",
              "\n",
              "       [[11. ,  4.3, 56. , 87. , 99. ],\n",
              "        [11. , 22. , 33. , 44. , 55. ]]])"
            ]
          },
          "metadata": {},
          "execution_count": 24
        }
      ]
    },
    {
      "cell_type": "code",
      "source": [
        "#checking dimension of an array--> .ndim\n",
        "print(f\"array: dimension:{arr1d.ndim}\")\n",
        "print(f\"array: dimension:{arr2d.ndim}\")\n",
        "print(f\"array: dimension:{array3D.ndim}\")"
      ],
      "metadata": {
        "colab": {
          "base_uri": "https://localhost:8080/"
        },
        "id": "-pIhc7cppUIK",
        "outputId": "e83642cf-2a29-426b-bbb2-54d8d2ddf959"
      },
      "execution_count": null,
      "outputs": [
        {
          "output_type": "stream",
          "name": "stdout",
          "text": [
            "array: dimension:1\n",
            "array: dimension:2\n",
            "array: dimension:3\n"
          ]
        }
      ]
    },
    {
      "cell_type": "code",
      "source": [
        "#checking the shape of array-->(num of row,num of col)--> .shape\n",
        "print(f\"array:shape:{arr1d.shape}\")\n",
        "print(f\"array:shape:{arr2d.shape}\")\n",
        "print(f\"array:shape:{array3D.shape}\")#()"
      ],
      "metadata": {
        "colab": {
          "base_uri": "https://localhost:8080/"
        },
        "id": "za8YQxj4qQqN",
        "outputId": "f68527d4-e878-4637-cdaa-e8cb6571a10e"
      },
      "execution_count": null,
      "outputs": [
        {
          "output_type": "stream",
          "name": "stdout",
          "text": [
            "array:shape:(6,)\n",
            "array:shape:(3, 6)\n",
            "array:shape:(3, 2, 5)\n"
          ]
        }
      ]
    },
    {
      "cell_type": "code",
      "source": [
        "print(f\"array: total num ber of elements: {arr1d.size}\")\n",
        "print(f\"array:shape:{arr2d.size}\")\n",
        "print(f\"array:shape:{array3D.size}\")#()"
      ],
      "metadata": {
        "colab": {
          "base_uri": "https://localhost:8080/"
        },
        "id": "B6vaLgJ8sOSP",
        "outputId": "c3669624-c700-41ca-ca25-ddb19f0b4ede"
      },
      "execution_count": null,
      "outputs": [
        {
          "output_type": "stream",
          "name": "stdout",
          "text": [
            "array: total num ber of elements6\n",
            "array:shape:18\n",
            "array:shape:30\n"
          ]
        }
      ]
    },
    {
      "cell_type": "code",
      "source": [
        "#converting array into another datatype --> astype('type')\n",
        "arr_ex=np.array([1,2,3,4,5,6,7,8,9])\n",
        "print(arr_ex)\n",
        "print()\n",
        "print('daty type of arr_ex',arr_ex.dtype)\n",
        "print()\n",
        "arr_new=arr_ex.astype(float)\n",
        "print()\n",
        "print('daty type of arr_ex',arr_new.dtype)\n",
        "print()\n",
        "arr_new"
      ],
      "metadata": {
        "colab": {
          "base_uri": "https://localhost:8080/"
        },
        "id": "b-90jr6CtcNG",
        "outputId": "34d7abd9-69b0-4348-d616-9df65bf6d482"
      },
      "execution_count": null,
      "outputs": [
        {
          "output_type": "stream",
          "name": "stdout",
          "text": [
            "[1 2 3 4 5 6 7 8 9]\n",
            "\n",
            "daty type of arr_ex int64\n",
            "\n",
            "\n",
            "daty type of arr_ex float64\n",
            "\n"
          ]
        },
        {
          "output_type": "execute_result",
          "data": {
            "text/plain": [
              "array([1., 2., 3., 4., 5., 6., 7., 8., 9.])"
            ]
          },
          "metadata": {},
          "execution_count": 29
        }
      ]
    },
    {
      "cell_type": "code",
      "source": [
        "#Converting array into different shapes --> .reshape(rows,columns)\n",
        "#by default filling of element will be row-wise\n",
        "arr_exm=np.array([1,2,3,4,56,7,89,9,12,11])\n",
        "print(arr_exm)\n",
        "\n"
      ],
      "metadata": {
        "colab": {
          "base_uri": "https://localhost:8080/"
        },
        "id": "FJ3FGJDZwP1j",
        "outputId": "3d157862-3bf2-44fc-9a0d-2510894cc7b5"
      },
      "execution_count": null,
      "outputs": [
        {
          "output_type": "stream",
          "name": "stdout",
          "text": [
            "[ 1  2  3  4 56  7 89  9 12 11]\n"
          ]
        }
      ]
    },
    {
      "cell_type": "code",
      "source": [
        "arr_exm.reshape(5,2)\n"
      ],
      "metadata": {
        "colab": {
          "base_uri": "https://localhost:8080/"
        },
        "id": "DbZekaxNveEE",
        "outputId": "3e3e9784-4438-475f-941b-c2cf92fd8f31"
      },
      "execution_count": null,
      "outputs": [
        {
          "output_type": "execute_result",
          "data": {
            "text/plain": [
              "array([[ 1,  2],\n",
              "       [ 3,  4],\n",
              "       [56,  7],\n",
              "       [89,  9],\n",
              "       [12, 11]])"
            ]
          },
          "metadata": {},
          "execution_count": 38
        }
      ]
    },
    {
      "cell_type": "code",
      "source": [
        "arr_exm.reshape((5,2),order='F') # Fortran order --> column major order"
      ],
      "metadata": {
        "colab": {
          "base_uri": "https://localhost:8080/"
        },
        "id": "89WRxnJ3yTDQ",
        "outputId": "4a937446-cadf-497f-aae1-bfb5c6e938ef"
      },
      "execution_count": null,
      "outputs": [
        {
          "output_type": "execute_result",
          "data": {
            "text/plain": [
              "array([[ 1,  7],\n",
              "       [ 2, 89],\n",
              "       [ 3,  9],\n",
              "       [ 4, 12],\n",
              "       [56, 11]])"
            ]
          },
          "metadata": {},
          "execution_count": 39
        }
      ]
    },
    {
      "cell_type": "code",
      "source": [
        "import numpy as np"
      ],
      "metadata": {
        "id": "rmTUPrdblqau"
      },
      "execution_count": null,
      "outputs": []
    },
    {
      "cell_type": "code",
      "source": [
        "a =  np.array(42)  # 0-D\n",
        "b = np.array([1,2,3,4,5])  # 1-D\n",
        "c = np.array([[1,2,3],[4,5,6]])  # 2-D\n",
        "d = np.array([[[1,2,3],[4,5,6]],[[1,2,3],[4,5,6]]])  #3-D\n",
        "\n",
        "\n",
        "print(\"dimension of a is: \", a.ndim)\n",
        "print(\"dimension of b is: \", b.ndim)\n",
        "print(\"dimension of c is: \", c.ndim)\n",
        "print(\"dimension of d is: \", d.ndim)"
      ],
      "metadata": {
        "colab": {
          "base_uri": "https://localhost:8080/"
        },
        "id": "KZVumq_xjqFF",
        "outputId": "8dad06fa-c04d-43cc-901a-f6169f9fa1f5"
      },
      "execution_count": null,
      "outputs": [
        {
          "output_type": "stream",
          "name": "stdout",
          "text": [
            "dimension of a is:  0\n",
            "dimension of b is:  1\n",
            "dimension of c is:  2\n",
            "dimension of d is:  3\n"
          ]
        }
      ]
    },
    {
      "cell_type": "code",
      "source": [
        "#indexing\n",
        "#1D--> array[index]\n",
        "array1d=np.array([1,2,3,4,5,6,7],)\n",
        "array1d\n",
        "print(array1d[4])"
      ],
      "metadata": {
        "colab": {
          "base_uri": "https://localhost:8080/"
        },
        "id": "jbsjc7hNlJK9",
        "outputId": "70d4e018-f72f-45b6-e332-ad073c3d6baf"
      },
      "execution_count": null,
      "outputs": [
        {
          "output_type": "stream",
          "name": "stdout",
          "text": [
            "5\n"
          ]
        }
      ]
    },
    {
      "cell_type": "code",
      "source": [
        "#for 2d--> arraey[row , index]\n",
        "array2d=np.array([[1,2,3,4],[11,22,33,44],[55,66,77,88]])\n",
        "print(array2d[1,2])\n",
        "print(array2d[0,2])\n",
        "print(array2d[2,2])"
      ],
      "metadata": {
        "colab": {
          "base_uri": "https://localhost:8080/"
        },
        "id": "hd1KP43wmBTd",
        "outputId": "56253d7c-d39f-4f74-b6e0-e44e7e43def0"
      },
      "execution_count": null,
      "outputs": [
        {
          "output_type": "stream",
          "name": "stdout",
          "text": [
            "33\n",
            "3\n",
            "77\n"
          ]
        }
      ]
    },
    {
      "cell_type": "code",
      "source": [
        "#for 3d--> arraey[index of_ [matriex,row , index]\n",
        "array3D=np.array([[\n",
        "    [1,2,3,4],[5,6,7,8]\n",
        "    ],\n",
        "     [[11,22,33,44],[55,66,77,88]\n",
        "      ]\n",
        "                  ])\n",
        "print(array3D[1,0,2])\n",
        "print(array3D[0,1,1])\n",
        "print(array3D[1,1,1])\n"
      ],
      "metadata": {
        "colab": {
          "base_uri": "https://localhost:8080/"
        },
        "id": "L4nQ-6QCm2ZI",
        "outputId": "cf12f87c-d728-44e4-9543-ed319c006ad2"
      },
      "execution_count": null,
      "outputs": [
        {
          "output_type": "stream",
          "name": "stdout",
          "text": [
            "33\n",
            "6\n",
            "66\n"
          ]
        }
      ]
    },
    {
      "cell_type": "code",
      "source": [
        "#slicing of arrays\n",
        "#1d--> array[index_num:index_num2+1]\n",
        "array1d=np.array([1,2,3,4,5,6,7],)\n",
        "array1d\n",
        "print(array1d[1:4])\n",
        "print(array1d[4:])"
      ],
      "metadata": {
        "colab": {
          "base_uri": "https://localhost:8080/"
        },
        "id": "oaW54ILXoRv9",
        "outputId": "fcedd0f5-6e73-4463-f313-748c4b9c8ef4"
      },
      "execution_count": null,
      "outputs": [
        {
          "output_type": "stream",
          "name": "stdout",
          "text": [
            "[2 3 4]\n",
            "[5 6 7]\n"
          ]
        }
      ]
    },
    {
      "cell_type": "code",
      "source": [
        "#slicing of arrays\n",
        "#2d--> array[index_num:index_num2+1]\n",
        "array2d=np.array([[1,2,3,4],[11,22,33,44],[55,66,77,88]])\n",
        "print(array2d[1,1:3])\n",
        "print(array2d[0,:3])\n",
        "print(array2d[2,1:])"
      ],
      "metadata": {
        "colab": {
          "base_uri": "https://localhost:8080/"
        },
        "id": "zqV47g6xpVyb",
        "outputId": "4d92c0b7-6891-468b-994b-90c568e96a84"
      },
      "execution_count": null,
      "outputs": [
        {
          "output_type": "stream",
          "name": "stdout",
          "text": [
            "[22 33]\n",
            "[1 2 3]\n",
            "[66 77 88]\n"
          ]
        }
      ]
    },
    {
      "cell_type": "code",
      "source": [
        "#slicing of arrays\n",
        "#3d--> array[index_num:index_num2+1]\n",
        "array3D=np.array([[\n",
        "    [1,2,3,4],[5,6,7,8]\n",
        "    ],\n",
        "     [[11,22,33,44],[55,66,77,88]\n",
        "      ]\n",
        "                  ])\n",
        "print(array3D[0,1,2:])\n",
        "print(array3D[1,1,2:])"
      ],
      "metadata": {
        "colab": {
          "base_uri": "https://localhost:8080/"
        },
        "id": "tCR94-ZTqMXb",
        "outputId": "8162f821-78c7-401d-aba4-e2cf8eff994d"
      },
      "execution_count": null,
      "outputs": [
        {
          "output_type": "stream",
          "name": "stdout",
          "text": [
            "[7 8]\n",
            "[77 88]\n"
          ]
        }
      ]
    },
    {
      "cell_type": "code",
      "source": [
        "#making the basic numpy array\n",
        "import numpy as np\n",
        "a=np.array(range(20),dtype=\"float\",ndmin=5)\n",
        "print(a)"
      ],
      "metadata": {
        "colab": {
          "base_uri": "https://localhost:8080/"
        },
        "id": "Ftt4E2naqslD",
        "outputId": "222b0555-eae0-4967-b8ff-d5ec31478b54"
      },
      "execution_count": null,
      "outputs": [
        {
          "output_type": "stream",
          "name": "stdout",
          "text": [
            "[[[[[ 0.  1.  2.  3.  4.  5.  6.  7.  8.  9. 10. 11. 12. 13. 14. 15.\n",
            "     16. 17. 18. 19.]]]]]\n"
          ]
        }
      ]
    },
    {
      "cell_type": "code",
      "source": [
        "#indexing based on certain condition -->\n",
        "#array [mask]\n",
        "#create a array\n",
        "x=np.array([1,2,3,46,6,7,8,9,10,11,12,13,14])\n",
        "mask=(x%2==0)\n",
        "print(x[mask])"
      ],
      "metadata": {
        "colab": {
          "base_uri": "https://localhost:8080/"
        },
        "id": "N1uE6rhkrb_6",
        "outputId": "5485c20b-d460-4e62-e8b5-76ee84eea2f5"
      },
      "execution_count": null,
      "outputs": [
        {
          "output_type": "stream",
          "name": "stdout",
          "text": [
            "[ 2 46  6  8 10 12 14]\n"
          ]
        }
      ]
    },
    {
      "cell_type": "code",
      "source": [
        "#filter out those element which are divisibal by two and positive\n",
        "y=np.array([-1,1,2,3,4,5,6,-6,-7,11,12,-13,-14,15,16])\n",
        "mask2=(y%2==0)&(y>0)\n",
        "print(y[mask2])"
      ],
      "metadata": {
        "colab": {
          "base_uri": "https://localhost:8080/"
        },
        "id": "7DGRGMxPtSss",
        "outputId": "45a8e59e-201a-41c0-fc7f-63a1ff42bed2"
      },
      "execution_count": null,
      "outputs": [
        {
          "output_type": "stream",
          "name": "stdout",
          "text": [
            "[ 2  4  6 12 16]\n"
          ]
        }
      ]
    },
    {
      "cell_type": "code",
      "source": [
        "#filter out those element which are divisibal by two or three\n",
        "y=np.array([-1,1,2,3,4,5,6,-6,-7,11,12,-13,-14,15,16])\n",
        "mask2=(y%2==0)|(y%3==0)\n",
        "print(y[mask2])"
      ],
      "metadata": {
        "colab": {
          "base_uri": "https://localhost:8080/"
        },
        "id": "QAzVh9ysuMk9",
        "outputId": "c9cf38ed-a4d5-434f-960f-971ac4de87fc"
      },
      "execution_count": null,
      "outputs": [
        {
          "output_type": "stream",
          "name": "stdout",
          "text": [
            "[  2   3   4   6  -6  12 -14  15  16]\n"
          ]
        }
      ]
    },
    {
      "cell_type": "code",
      "source": [
        "#arange () it can be used with float datatype\n",
        "x=np.arange(1,11)\n",
        "x"
      ],
      "metadata": {
        "colab": {
          "base_uri": "https://localhost:8080/"
        },
        "id": "W6wmYw0KudeX",
        "outputId": "790c2151-c7ba-4d5a-e499-419302b916f1"
      },
      "execution_count": null,
      "outputs": [
        {
          "output_type": "execute_result",
          "data": {
            "text/plain": [
              "array([ 1,  2,  3,  4,  5,  6,  7,  8,  9, 10])"
            ]
          },
          "metadata": {},
          "execution_count": 34
        }
      ]
    },
    {
      "cell_type": "code",
      "source": [
        "#arange () it can be used with float datatype if you use rannge in float datatype it will give me error\n",
        "x=np.arange(1,11.5)\n",
        "x"
      ],
      "metadata": {
        "colab": {
          "base_uri": "https://localhost:8080/"
        },
        "id": "q786L5niwCm3",
        "outputId": "d711d544-c9ac-474d-f88b-8982ad79eef7"
      },
      "execution_count": null,
      "outputs": [
        {
          "output_type": "execute_result",
          "data": {
            "text/plain": [
              "array([ 1.,  2.,  3.,  4.,  5.,  6.,  7.,  8.,  9., 10., 11.])"
            ]
          },
          "metadata": {},
          "execution_count": 35
        }
      ]
    },
    {
      "cell_type": "code",
      "source": [
        "#np.linespace(start ,stop,number)-->generater the array with equal spacing between\n",
        "np.linspace(0,1,11)\n",
        "#generate 11 number between 0 and 1 with liner spacing"
      ],
      "metadata": {
        "colab": {
          "base_uri": "https://localhost:8080/"
        },
        "id": "QLf-3AXnwgO4",
        "outputId": "dad32390-60ef-4a6f-a67d-c1743fffac93"
      },
      "execution_count": null,
      "outputs": [
        {
          "output_type": "execute_result",
          "data": {
            "text/plain": [
              "array([0. , 0.1, 0.2, 0.3, 0.4, 0.5, 0.6, 0.7, 0.8, 0.9, 1. ])"
            ]
          },
          "metadata": {},
          "execution_count": 40
        }
      ]
    },
    {
      "cell_type": "code",
      "source": [
        "np.linspace(1,25,5)"
      ],
      "metadata": {
        "colab": {
          "base_uri": "https://localhost:8080/"
        },
        "id": "tWRL2qYMxeJK",
        "outputId": "efb24694-a96f-4262-e250-996550e39717"
      },
      "execution_count": null,
      "outputs": [
        {
          "output_type": "execute_result",
          "data": {
            "text/plain": [
              "array([ 1.,  7., 13., 19., 25.])"
            ]
          },
          "metadata": {},
          "execution_count": 41
        }
      ]
    },
    {
      "cell_type": "code",
      "source": [
        "#creating ones matrix\n",
        "#creating 3*3matrix  where the value are 1\n",
        "np.ones((3,3),int)\n",
        "#np.ones((4,2),int)"
      ],
      "metadata": {
        "colab": {
          "base_uri": "https://localhost:8080/"
        },
        "id": "ViT7jZMwx7lT",
        "outputId": "472c64fd-8b9a-4509-9f8d-1c1c99055ab4"
      },
      "execution_count": null,
      "outputs": [
        {
          "output_type": "execute_result",
          "data": {
            "text/plain": [
              "array([[1, 1, 1],\n",
              "       [1, 1, 1],\n",
              "       [1, 1, 1]])"
            ]
          },
          "metadata": {},
          "execution_count": 47
        }
      ]
    },
    {
      "cell_type": "code",
      "source": [
        "#creating zeros matrix\n",
        "np.zeros((4,2),int)"
      ],
      "metadata": {
        "colab": {
          "base_uri": "https://localhost:8080/"
        },
        "id": "vP9dw6Zoy2Zi",
        "outputId": "f4a51b99-0cba-4f17-add6-ec7c3c563f56"
      },
      "execution_count": null,
      "outputs": [
        {
          "output_type": "execute_result",
          "data": {
            "text/plain": [
              "array([[0, 0],\n",
              "       [0, 0],\n",
              "       [0, 0],\n",
              "       [0, 0]])"
            ]
          },
          "metadata": {},
          "execution_count": 48
        }
      ]
    },
    {
      "cell_type": "code",
      "source": [
        "#creating indentity matrix --> a matrix diagonal elementa are 1\n",
        "#np.eye(row,column)\n",
        "np.eye(3,3)"
      ],
      "metadata": {
        "colab": {
          "base_uri": "https://localhost:8080/"
        },
        "id": "GQmKrEmozQnq",
        "outputId": "313bc348-f93d-464e-c050-08d373b8f0dd"
      },
      "execution_count": null,
      "outputs": [
        {
          "output_type": "execute_result",
          "data": {
            "text/plain": [
              "array([[1., 0., 0.],\n",
              "       [0., 1., 0.],\n",
              "       [0., 0., 1.]])"
            ]
          },
          "metadata": {},
          "execution_count": 50
        }
      ]
    },
    {
      "cell_type": "code",
      "source": [
        "#creating the empty matrix #use for testing for time saving\n",
        "#matrix of random values --> faster the np.zeros and ones\n",
        "#np.empty(row ,column),dtype =optional\n",
        "np.empty((3,3),dtype=int)\n",
        "np.empty((3,3),dtype=int)"
      ],
      "metadata": {
        "colab": {
          "base_uri": "https://localhost:8080/"
        },
        "id": "ew98yMiSztro",
        "outputId": "683aca15-9afc-4d3b-8b6a-74ddba9b9455"
      },
      "execution_count": null,
      "outputs": [
        {
          "output_type": "execute_result",
          "data": {
            "text/plain": [
              "array([[73888576,        0,        0],\n",
              "       [       0,        0,        0],\n",
              "       [       0,        0,        0]])"
            ]
          },
          "metadata": {},
          "execution_count": 82
        }
      ]
    },
    {
      "cell_type": "code",
      "source": [
        "#sum function --> sum of all the elemenmts\n",
        "#np.sum(array)\n",
        "array2D=np.array([[1,2,3,4],[5,5,6,7],[8,8,7,9]])\n",
        "np.sum(array2D)"
      ],
      "metadata": {
        "colab": {
          "base_uri": "https://localhost:8080/"
        },
        "id": "JTsbmXxS1ch2",
        "outputId": "a97217b9-38da-4147-bdee-0635f3169908"
      },
      "execution_count": null,
      "outputs": [
        {
          "output_type": "execute_result",
          "data": {
            "text/plain": [
              "np.int64(65)"
            ]
          },
          "metadata": {},
          "execution_count": 83
        }
      ]
    },
    {
      "cell_type": "code",
      "source": [
        "#create numpy arrary with prefilled with some specific number\n",
        "pre_array=np.full(5,5)#create an array with 10 elements where each elements ids 5\n",
        "print(pre_array)"
      ],
      "metadata": {
        "colab": {
          "base_uri": "https://localhost:8080/"
        },
        "id": "o-u_1vx32PKA",
        "outputId": "85977e9a-f3d3-407e-d113-b6e8f1ad5828"
      },
      "execution_count": null,
      "outputs": [
        {
          "output_type": "stream",
          "name": "stdout",
          "text": [
            "[5 5 5 5 5]\n"
          ]
        }
      ]
    },
    {
      "cell_type": "code",
      "source": [
        "#for row wise addition\n",
        "array2D=np.array([[1,2,3,4],[5,5,6,7],[8,8,7,9]])\n",
        "array2D"
      ],
      "metadata": {
        "colab": {
          "base_uri": "https://localhost:8080/"
        },
        "id": "eESGI5hP3pKQ",
        "outputId": "d0b611a2-38af-47da-a31d-d9ae41fa75fa"
      },
      "execution_count": null,
      "outputs": [
        {
          "output_type": "execute_result",
          "data": {
            "text/plain": [
              "array([[1, 2, 3, 4],\n",
              "       [5, 5, 6, 7],\n",
              "       [8, 8, 7, 9]])"
            ]
          },
          "metadata": {},
          "execution_count": 86
        }
      ]
    },
    {
      "cell_type": "code",
      "source": [
        "##for row wise addition\n",
        "#axis=0--> row\n",
        "#axis=1-->column\n",
        "np.sum(array2D,axis=0)"
      ],
      "metadata": {
        "colab": {
          "base_uri": "https://localhost:8080/"
        },
        "id": "gtij_J924QM_",
        "outputId": "ae36d53f-4592-4ead-9e39-3b1adac7b7a3"
      },
      "execution_count": null,
      "outputs": [
        {
          "output_type": "execute_result",
          "data": {
            "text/plain": [
              "array([14, 15, 16, 20])"
            ]
          },
          "metadata": {},
          "execution_count": 87
        }
      ]
    },
    {
      "cell_type": "code",
      "source": [
        "np.sum(array2D,axis=1)"
      ],
      "metadata": {
        "colab": {
          "base_uri": "https://localhost:8080/"
        },
        "id": "yd0RT6Wc5CUC",
        "outputId": "5d41db1d-13bd-45aa-d742-afc33b4c8dfd"
      },
      "execution_count": null,
      "outputs": [
        {
          "output_type": "execute_result",
          "data": {
            "text/plain": [
              "array([10, 23, 32])"
            ]
          },
          "metadata": {},
          "execution_count": 88
        }
      ]
    },
    {
      "cell_type": "code",
      "source": [
        "import numpy as np"
      ],
      "metadata": {
        "id": "cstG99a75Hob"
      },
      "execution_count": null,
      "outputs": []
    },
    {
      "cell_type": "code",
      "source": [
        "#finding min array\n",
        "x=np.array([500,400,200,600,700])\n",
        "print('min ',np.min(x))\n",
        "print('max ',np.max(x))"
      ],
      "metadata": {
        "colab": {
          "base_uri": "https://localhost:8080/"
        },
        "id": "_eGot_8QuRdY",
        "outputId": "d104449b-7af2-4620-9f8c-a6f1569d6946"
      },
      "execution_count": null,
      "outputs": [
        {
          "output_type": "stream",
          "name": "stdout",
          "text": [
            "min  200\n",
            "max  700\n"
          ]
        }
      ]
    },
    {
      "cell_type": "code",
      "source": [
        "#to get index location of min and max value\n",
        "print('index location of min and max value:',np.argmin(x))\n",
        "print('index location of min and max value:',np.argmax(x))"
      ],
      "metadata": {
        "colab": {
          "base_uri": "https://localhost:8080/"
        },
        "id": "qZ0tZN9NvOPU",
        "outputId": "751fd958-085c-441f-ee43-4bf6f8e38438"
      },
      "execution_count": null,
      "outputs": [
        {
          "output_type": "stream",
          "name": "stdout",
          "text": [
            "index location of min and max value: 2\n",
            "index location of min and max value: 4\n"
          ]
        }
      ]
    },
    {
      "cell_type": "code",
      "source": [
        "array2D=np.array([[1,2,3,4],[5,5,6,7],[8,8,7,9]])\n",
        "array2D\n",
        "print('min ',np.min(array2D))\n",
        "print('max ',np.max(array2D))\n",
        "print('index location of min and max value:',np.argmax(array2D))"
      ],
      "metadata": {
        "colab": {
          "base_uri": "https://localhost:8080/"
        },
        "id": "J0Q5i-Vsvs5N",
        "outputId": "21c1fe0a-2e8b-4b48-ff50-f6255f3b4f31"
      },
      "execution_count": null,
      "outputs": [
        {
          "output_type": "stream",
          "name": "stdout",
          "text": [
            "min  1\n",
            "max  9\n",
            "index location of min and max value: 11\n"
          ]
        }
      ]
    },
    {
      "cell_type": "code",
      "source": [
        "array3D=np.array([\n",
        "    [\n",
        "    [1,2,3,4],\n",
        "     [5,6,7,8]\n",
        "    ],\n",
        "     [\n",
        "         [11,99,33,44],\n",
        "          [55,66,77,88]\n",
        "      ]\n",
        "                  ])\n",
        "p=np.argmax(array3D)\n",
        "shape=array3D.shape\n",
        "ind_max=np.unravel_index(p,shape)\n",
        "ind_max"
      ],
      "metadata": {
        "colab": {
          "base_uri": "https://localhost:8080/"
        },
        "id": "0FWB3tpkwmBR",
        "outputId": "34ef050e-d91c-4e2b-c73f-a3ffa6506a71"
      },
      "execution_count": null,
      "outputs": [
        {
          "output_type": "execute_result",
          "data": {
            "text/plain": [
              "(np.int64(1), np.int64(0), np.int64(1))"
            ]
          },
          "metadata": {},
          "execution_count": 13
        }
      ]
    },
    {
      "cell_type": "code",
      "source": [
        "#itering over numpy arrays all element visit one by one\n",
        "#we can use loop\n",
        "array1D=np.array([1,2,3,4,5,6,7])\n",
        "for i in array1D:\n",
        "  print(i*i)\n",
        "  print(i)"
      ],
      "metadata": {
        "colab": {
          "base_uri": "https://localhost:8080/"
        },
        "id": "Gnzo5B7ay3bL",
        "outputId": "586e740e-eb53-4890-ef0e-734b058fcfaf"
      },
      "execution_count": null,
      "outputs": [
        {
          "output_type": "stream",
          "name": "stdout",
          "text": [
            "1\n",
            "1\n",
            "4\n",
            "2\n",
            "9\n",
            "3\n",
            "16\n",
            "4\n",
            "25\n",
            "5\n",
            "36\n",
            "6\n",
            "49\n",
            "7\n"
          ]
        }
      ]
    },
    {
      "cell_type": "code",
      "source": [
        "#2d array\n",
        "#we can use a nested for loop to itrate over 2D array\n",
        "#the outer loop iterates over the outer array\n",
        "#ineer loop iterates over the outer array\n",
        "array2D=np.array([[1,2,3,4],[5,5,6,7],[8,8,7,9]])\n",
        "for i in array2D:\n",
        "  print(i)"
      ],
      "metadata": {
        "colab": {
          "base_uri": "https://localhost:8080/"
        },
        "id": "FDH5kPue0v4M",
        "outputId": "79655e75-29e9-4c20-989a-bd16f6f14fb3"
      },
      "execution_count": null,
      "outputs": [
        {
          "output_type": "stream",
          "name": "stdout",
          "text": [
            "[1 2 3 4]\n",
            "[5 5 6 7]\n",
            "[8 8 7 9]\n"
          ]
        }
      ]
    },
    {
      "cell_type": "code",
      "source": [
        "for i in array2D:\n",
        "  for j in i:\n",
        "    print(j)"
      ],
      "metadata": {
        "colab": {
          "base_uri": "https://localhost:8080/"
        },
        "id": "_PLdl-gB2Apr",
        "outputId": "291be434-1ce3-4bd8-dd79-24d990dab4ac"
      },
      "execution_count": null,
      "outputs": [
        {
          "output_type": "stream",
          "name": "stdout",
          "text": [
            "1\n",
            "2\n",
            "3\n",
            "4\n",
            "5\n",
            "5\n",
            "6\n",
            "7\n",
            "8\n",
            "8\n",
            "7\n",
            "9\n"
          ]
        }
      ]
    },
    {
      "cell_type": "code",
      "source": [
        "array3D=np.array([\n",
        "    [\n",
        "    [1,2,3,4],\n",
        "     [5,6,7,8]\n",
        "    ],\n",
        "     [\n",
        "         [11,99,33,44],\n",
        "          [55,66,77,88]\n",
        "      ]\n",
        "                  ])\n",
        "for i in array3D:\n",
        "  for j in i:\n",
        "    for k in j:\n",
        "      print(k)"
      ],
      "metadata": {
        "colab": {
          "base_uri": "https://localhost:8080/"
        },
        "id": "S2oqWTdZ2oM-",
        "outputId": "cdca4c65-d066-487c-b27a-da6cef5b9037"
      },
      "execution_count": null,
      "outputs": [
        {
          "output_type": "stream",
          "name": "stdout",
          "text": [
            "1\n",
            "2\n",
            "3\n",
            "4\n",
            "5\n",
            "6\n",
            "7\n",
            "8\n",
            "11\n",
            "99\n",
            "33\n",
            "44\n",
            "55\n",
            "66\n",
            "77\n",
            "88\n"
          ]
        }
      ]
    },
    {
      "cell_type": "code",
      "source": [
        "#Adding  matrices together\n",
        "a=np.array([\n",
        "    [0,1],[1,2]\n",
        "])\n",
        "b=np.array([\n",
        "    [2,3],[4,5]\n",
        "])\n",
        "print(a+b)"
      ],
      "metadata": {
        "colab": {
          "base_uri": "https://localhost:8080/"
        },
        "id": "EBORC9YZ3TCE",
        "outputId": "481b4c09-8812-4120-e0e2-3f3637053ba9"
      },
      "execution_count": null,
      "outputs": [
        {
          "output_type": "stream",
          "name": "stdout",
          "text": [
            "[[2 4]\n",
            " [5 7]]\n"
          ]
        }
      ]
    },
    {
      "cell_type": "code",
      "source": [
        "#adding 10 to each element\n",
        "print(a+10)"
      ],
      "metadata": {
        "colab": {
          "base_uri": "https://localhost:8080/"
        },
        "id": "KsI4RAzX4j-2",
        "outputId": "641bd90d-16d3-4442-b5d2-afb1f21e926f"
      },
      "execution_count": null,
      "outputs": [
        {
          "output_type": "stream",
          "name": "stdout",
          "text": [
            "[[10 11]\n",
            " [11 12]]\n"
          ]
        }
      ]
    },
    {
      "cell_type": "code",
      "source": [
        "#subtraction\n",
        "print(a-2)"
      ],
      "metadata": {
        "colab": {
          "base_uri": "https://localhost:8080/"
        },
        "id": "e_rmUwNO5g3o",
        "outputId": "c364324d-a3b7-41e9-81dc-a725312f4477"
      },
      "execution_count": null,
      "outputs": [
        {
          "output_type": "stream",
          "name": "stdout",
          "text": [
            "[[-2 -1]\n",
            " [-1  0]]\n"
          ]
        }
      ]
    },
    {
      "cell_type": "code",
      "source": [
        "#division\n",
        "print(a/2)"
      ],
      "metadata": {
        "colab": {
          "base_uri": "https://localhost:8080/"
        },
        "id": "bGnn85nS5mHN",
        "outputId": "ab3bb0e7-e93d-4cd8-ab54-621afa73eaee"
      },
      "execution_count": null,
      "outputs": [
        {
          "output_type": "stream",
          "name": "stdout",
          "text": [
            "[[0.  0.5]\n",
            " [0.5 1. ]]\n"
          ]
        }
      ]
    },
    {
      "cell_type": "code",
      "source": [
        "#multiplaction of two matrix\n",
        "print(np.matmul(a,b))"
      ],
      "metadata": {
        "colab": {
          "base_uri": "https://localhost:8080/"
        },
        "id": "YoqrAF3152PE",
        "outputId": "ed0f7aec-0a76-4354-851a-060099f13613"
      },
      "execution_count": null,
      "outputs": [
        {
          "output_type": "stream",
          "name": "stdout",
          "text": [
            "[[ 4  5]\n",
            " [10 13]]\n"
          ]
        }
      ]
    },
    {
      "cell_type": "code",
      "source": [
        "#power\n",
        "print(b**2)"
      ],
      "metadata": {
        "colab": {
          "base_uri": "https://localhost:8080/"
        },
        "id": "NWycvEpz6h4F",
        "outputId": "230b202b-d429-4494-a43e-fe8d0c531772"
      },
      "execution_count": null,
      "outputs": [
        {
          "output_type": "stream",
          "name": "stdout",
          "text": [
            "[[ 4  9]\n",
            " [16 25]]\n"
          ]
        }
      ]
    },
    {
      "cell_type": "code",
      "source": [
        "m1=np.array([\n",
        "    [1,2,3],[4,5,6]\n",
        "])\n",
        "m1"
      ],
      "metadata": {
        "colab": {
          "base_uri": "https://localhost:8080/"
        },
        "id": "Td3C2XWx9lML",
        "outputId": "3241c17e-d420-428d-db11-26db60a519d7"
      },
      "execution_count": null,
      "outputs": [
        {
          "output_type": "execute_result",
          "data": {
            "text/plain": [
              "array([[1, 2, 3],\n",
              "       [4, 5, 6]])"
            ]
          },
          "metadata": {},
          "execution_count": 30
        }
      ]
    },
    {
      "cell_type": "code",
      "source": [
        "#tanspose to convert 3 row and 2 column\n",
        "print(m1.T)"
      ],
      "metadata": {
        "colab": {
          "base_uri": "https://localhost:8080/"
        },
        "id": "qMOV0oE_9-aX",
        "outputId": "d756c4e3-0bd2-454b-b3ed-38ddd8164174"
      },
      "execution_count": null,
      "outputs": [
        {
          "output_type": "stream",
          "name": "stdout",
          "text": [
            "[[1 4]\n",
            " [2 5]\n",
            " [3 6]]\n"
          ]
        }
      ]
    },
    {
      "cell_type": "code",
      "source": [
        "data=np. array([10,20,30,40])\n",
        "mean_val=np.mean(data)\n",
        "print('mean=',mean_val)"
      ],
      "metadata": {
        "colab": {
          "base_uri": "https://localhost:8080/"
        },
        "id": "BPIw_ph--NEC",
        "outputId": "cdd12cae-176b-47ec-a770-27fd32e4730f"
      },
      "execution_count": null,
      "outputs": [
        {
          "output_type": "stream",
          "name": "stdout",
          "text": [
            "mean= 25.0\n"
          ]
        }
      ]
    },
    {
      "cell_type": "code",
      "source": [
        "#mean and meedion\n",
        "data=np. array([10,20,30,40])\n",
        "mean_val=np.mean(data)\n",
        "print('mean=',mean_val)\n",
        "med_val=np.median(data)\n",
        "print('median=',med_val)"
      ],
      "metadata": {
        "colab": {
          "base_uri": "https://localhost:8080/"
        },
        "id": "wWGGLfR5_5Rq",
        "outputId": "86653ec7-e285-476b-f5fe-d38a5976713f"
      },
      "execution_count": null,
      "outputs": [
        {
          "output_type": "stream",
          "name": "stdout",
          "text": [
            "mean= 25.0\n",
            "median= 25.0\n"
          ]
        }
      ]
    },
    {
      "cell_type": "code",
      "source": [
        "#varienceand stander diviosuionm\n",
        "data=np. array([10,20,30,40,50])\n",
        "variance=np.var(data)\n",
        "std_dev=np.std(data)\n",
        "print('vatiance',variance)\n",
        "print('std_dev',std_dev)"
      ],
      "metadata": {
        "colab": {
          "base_uri": "https://localhost:8080/"
        },
        "id": "UthxF3nNA7mc",
        "outputId": "c006819c-b629-4fff-9569-3b7fd3bc1047"
      },
      "execution_count": null,
      "outputs": [
        {
          "output_type": "stream",
          "name": "stdout",
          "text": [
            "vatiance 200.0\n",
            "std_dev 14.142135623730951\n"
          ]
        }
      ]
    },
    {
      "cell_type": "code",
      "source": [
        "import numpy as np"
      ],
      "metadata": {
        "id": "R1Lla8aJDtDl"
      },
      "execution_count": null,
      "outputs": []
    },
    {
      "cell_type": "code",
      "source": [],
      "metadata": {
        "id": "7HDXxbrj393j"
      },
      "execution_count": null,
      "outputs": []
    }
  ]
}