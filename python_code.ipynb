{
  "nbformat": 4,
  "nbformat_minor": 0,
  "metadata": {
    "colab": {
      "provenance": []
    },
    "kernelspec": {
      "name": "python3",
      "display_name": "Python 3"
    },
    "language_info": {
      "name": "python"
    }
  },
  "cells": [
    {
      "cell_type": "code",
      "execution_count": null,
      "metadata": {
        "colab": {
          "base_uri": "https://localhost:8080/"
        },
        "id": "Wdko7Y7MoVbE",
        "outputId": "d91b79d2-30be-4d78-ec89-5b3714ec063e"
      },
      "outputs": [
        {
          "output_type": "stream",
          "name": "stdout",
          "text": [
            "hello python\n"
          ]
        }
      ],
      "source": [
        "print(\"hello python\")\n"
      ]
    },
    {
      "cell_type": "code",
      "source": [],
      "metadata": {
        "id": "Adz8sJT9qIyb"
      },
      "execution_count": null,
      "outputs": []
    },
    {
      "cell_type": "code",
      "source": [
        "a=23\n",
        "b=43\n",
        "print(a)\n",
        "print(b)\n"
      ],
      "metadata": {
        "colab": {
          "base_uri": "https://localhost:8080/"
        },
        "id": "6zz8lKNFrCiD",
        "outputId": "368430b8-b6e5-47c8-9159-038493783621"
      },
      "execution_count": null,
      "outputs": [
        {
          "output_type": "stream",
          "name": "stdout",
          "text": [
            "23\n",
            "43\n"
          ]
        }
      ]
    },
    {
      "cell_type": "code",
      "source": [],
      "metadata": {
        "id": "1HzZinKT6cTJ"
      },
      "execution_count": null,
      "outputs": []
    },
    {
      "cell_type": "code",
      "source": [],
      "metadata": {
        "id": "HKhf82ms6dfl"
      },
      "execution_count": null,
      "outputs": []
    },
    {
      "cell_type": "code",
      "source": [
        "lS=['krusha','milin','malav','kinnu','ishani',11,22,33.3,44.4,55.5]\n",
        "print(type(lS))\n",
        "print(lS)\n",
        "print(lS[1:6])\n",
        "lS.append(66.6)\n",
        "print(lS)\n",
        "lS.pop()\n",
        "print(lS)\n",
        "lS.append('Tarun')\n",
        "print(lS)\n",
        "lS.index(11)\n",
        "tup=lS()\n"
      ],
      "metadata": {
        "colab": {
          "base_uri": "https://localhost:8080/"
        },
        "id": "B2_wFISPre5n",
        "outputId": "a90e489a-4c8a-4097-ac3a-2ceb62bfadf3"
      },
      "execution_count": null,
      "outputs": [
        {
          "output_type": "stream",
          "name": "stdout",
          "text": [
            "<class 'list'>\n",
            "['krusha', 'milin', 'malav', 'kinnu', 'ishani', 11, 22, 33.3, 44.4, 55.5]\n",
            "['milin', 'malav', 'kinnu', 'ishani', 11]\n",
            "['krusha', 'milin', 'malav', 'kinnu', 'ishani', 11, 22, 33.3, 44.4, 55.5, 66.6]\n",
            "['krusha', 'milin', 'malav', 'kinnu', 'ishani', 11, 22, 33.3, 44.4, 55.5]\n",
            "['krusha', 'milin', 'malav', 'kinnu', 'ishani', 11, 22, 33.3, 44.4, 55.5, 'Tarun']\n"
          ]
        },
        {
          "output_type": "execute_result",
          "data": {
            "text/plain": [
              "5"
            ]
          },
          "metadata": {},
          "execution_count": 19
        }
      ]
    },
    {
      "cell_type": "code",
      "source": [
        "d={\n",
        "    101:'krusha',\n",
        "    102:['malav','milin','ishani']\n",
        "}\n",
        "print(d)\n",
        "print(d[102][2])\n",
        "print(d.keys())\n",
        "print(d.values())\n",
        "print(d.items())"
      ],
      "metadata": {
        "colab": {
          "base_uri": "https://localhost:8080/"
        },
        "id": "qrFIofaE1M0b",
        "outputId": "35ad11f8-cfb4-4495-fb6a-ff0d26cc3049"
      },
      "execution_count": null,
      "outputs": [
        {
          "output_type": "stream",
          "name": "stdout",
          "text": [
            "{101: 'krusha', 102: ['malav', 'milin', 'ishani']}\n",
            "ishani\n",
            "dict_keys([101, 102])\n",
            "dict_values(['krusha', ['malav', 'milin', 'ishani']])\n",
            "dict_items([(101, 'krusha'), (102, ['malav', 'milin', 'ishani'])])\n"
          ]
        }
      ]
    },
    {
      "cell_type": "code",
      "source": [
        "a=23\n",
        "b=56\n",
        "if(a<b):\n",
        "  print(f\"{a} is greater then {b}\")\n",
        "else:\n",
        "  print(f\"{b}is less then {a}\")"
      ],
      "metadata": {
        "id": "ZrVLlVpFRJ-x",
        "colab": {
          "base_uri": "https://localhost:8080/"
        },
        "outputId": "297f6743-6eb3-42a4-f68b-10e52f7c8d3e"
      },
      "execution_count": null,
      "outputs": [
        {
          "output_type": "stream",
          "name": "stdout",
          "text": [
            "23 is greater then 56\n"
          ]
        }
      ]
    },
    {
      "cell_type": "code",
      "source": [
        "for i in range(0,11,2):\n",
        "  print(i*i,end=\"\\t\")\n",
        "for i in range(11,-1,-1):\n",
        "  print(i*i,end=\"\\t\")"
      ],
      "metadata": {
        "colab": {
          "base_uri": "https://localhost:8080/"
        },
        "id": "xv0MEOxFv7f0",
        "outputId": "974fce20-5211-4ad2-df9d-72b85ac1bf61"
      },
      "execution_count": null,
      "outputs": [
        {
          "output_type": "stream",
          "name": "stdout",
          "text": [
            "0\t4\t16\t36\t64\t100\t121\t100\t81\t64\t49\t36\t25\t16\t9\t4\t1\t0\t"
          ]
        }
      ]
    },
    {
      "cell_type": "code",
      "source": [
        "num=[1,2,3,4,5]\n",
        "ls2=[]\n",
        "for i in num:\n",
        "  ls2.append(i*i)\n",
        "\n",
        "print(ls2)"
      ],
      "metadata": {
        "colab": {
          "base_uri": "https://localhost:8080/"
        },
        "id": "SUIRxOZT4qij",
        "outputId": "147a87cb-46e3-432b-b02a-640a5eb623b1"
      },
      "execution_count": null,
      "outputs": [
        {
          "output_type": "stream",
          "name": "stdout",
          "text": [
            "[1, 4, 9, 16, 25]\n"
          ]
        }
      ]
    },
    {
      "cell_type": "code",
      "source": [
        "num=[1,2,3,4,5,6,7,8,9,10,11,12,13,14,15,16,17,18,19,20]\n",
        "even_ls=[]\n",
        "odd_ls=[]\n",
        "for i in num:\n",
        "  if i%2==0:\n",
        "    even_ls.append(i)\n",
        "\n",
        "  else:\n",
        "    odd_ls.append(i)\n",
        "\n",
        "\n",
        "print(even_ls)\n",
        "print(odd_ls)"
      ],
      "metadata": {
        "colab": {
          "base_uri": "https://localhost:8080/"
        },
        "id": "S9qu0HCc5VbB",
        "outputId": "ead9f2eb-7232-4ec1-fb75-4987e0738731"
      },
      "execution_count": null,
      "outputs": [
        {
          "output_type": "stream",
          "name": "stdout",
          "text": [
            "[2, 4, 6, 8, 10, 12, 14, 16, 18, 20]\n",
            "[1, 3, 5, 7, 9, 11, 13, 15, 17, 19]\n"
          ]
        }
      ]
    },
    {
      "cell_type": "code",
      "source": [
        "st=\"krusha\"\n",
        "\n",
        "for i in st :\n",
        "  print(i)"
      ],
      "metadata": {
        "colab": {
          "base_uri": "https://localhost:8080/"
        },
        "id": "sVb2PIuY7b7-",
        "outputId": "fa5862f0-fc9a-4e8a-cd82-60041293663d"
      },
      "execution_count": null,
      "outputs": [
        {
          "output_type": "stream",
          "name": "stdout",
          "text": [
            "k\n",
            "r\n",
            "u\n",
            "s\n",
            "h\n",
            "a\n"
          ]
        }
      ]
    },
    {
      "cell_type": "code",
      "source": [
        "st=\"krusha\"\n",
        "ls=[]\n",
        "for i in st :\n",
        "  if i in ' a,e,i,o,u':\n",
        "     ls.append(i)\n",
        "\n",
        "print(ls)\n",
        "print(len(ls))\n",
        "\n",
        "\n"
      ],
      "metadata": {
        "colab": {
          "base_uri": "https://localhost:8080/"
        },
        "id": "uPwPgt6J8gSQ",
        "outputId": "4c93dcee-c65e-4d16-81fa-c0630ad5c572"
      },
      "execution_count": null,
      "outputs": [
        {
          "output_type": "stream",
          "name": "stdout",
          "text": [
            "['u', 'a']\n",
            "2\n"
          ]
        }
      ]
    },
    {
      "cell_type": "code",
      "source": [],
      "metadata": {
        "id": "D2I8WptF44ga"
      },
      "execution_count": null,
      "outputs": []
    },
    {
      "cell_type": "code",
      "source": [
        "d={\n",
        "    101:'krusha',\n",
        "    102:['milin','malav','ishani']\n",
        " }\n",
        "for i in d.values() :\n",
        "      print(i)\n",
        "\n"
      ],
      "metadata": {
        "colab": {
          "base_uri": "https://localhost:8080/"
        },
        "id": "LMGDAnVy8k_G",
        "outputId": "64962de6-56b4-4ba7-9316-f607a3870dc0"
      },
      "execution_count": null,
      "outputs": [
        {
          "output_type": "stream",
          "name": "stdout",
          "text": [
            "krusha\n",
            "['milin', 'malav', 'ishani']\n"
          ]
        }
      ]
    },
    {
      "cell_type": "code",
      "source": [
        "def add_num():\n",
        "  a=int(input(\"enter no 1 :\"))\n",
        "  b=int(input(\"enter no 2 :\"))\n",
        "  res=a+b\n",
        "  print(\"add :\",res)\n",
        "\n",
        "add_num()\n",
        "\n"
      ],
      "metadata": {
        "colab": {
          "base_uri": "https://localhost:8080/"
        },
        "id": "pIWXo20O5yKd",
        "outputId": "bd7e75b1-7947-4f63-90e9-fb655b894614"
      },
      "execution_count": null,
      "outputs": [
        {
          "output_type": "stream",
          "name": "stdout",
          "text": [
            "enter no 1 :45\n",
            "enter no 2 :345\n",
            "add : 390\n"
          ]
        }
      ]
    },
    {
      "cell_type": "code",
      "source": [
        "def add_num():\n",
        "  a=int(input(\"enter no 1:\"))\n",
        "  b=int(input(\"enter no 2:\"))\n",
        "  res=a+b\n",
        "  return res\n",
        "\n",
        "add=add_num\n",
        "print(\"add:\",add)"
      ],
      "metadata": {
        "colab": {
          "base_uri": "https://localhost:8080/"
        },
        "id": "DycIVgCo6Uqa",
        "outputId": "0e7ceb62-111c-4279-ad44-583cbbd21ffc"
      },
      "execution_count": null,
      "outputs": [
        {
          "output_type": "stream",
          "name": "stdout",
          "text": [
            "add <function add_num at 0x788931ae8900>\n"
          ]
        }
      ]
    },
    {
      "cell_type": "code",
      "source": [
        "def div_num ():\n",
        "  a=int(input(\"enter no 1:\"))\n",
        "  b=int(input(\"enter no 2:\"))\n",
        "  res=a%b\n",
        "  res1=a/b\n",
        "  print(\"remi\", res)\n",
        "  print(\"div\", res1)\n",
        "\n",
        "div_num()\n",
        "\n",
        "\n",
        "\n",
        "\n"
      ],
      "metadata": {
        "colab": {
          "base_uri": "https://localhost:8080/"
        },
        "id": "sUUrIo367koD",
        "outputId": "b8bd56b3-e4e4-4bc8-ae57-2b7d8df667e6"
      },
      "execution_count": null,
      "outputs": [
        {
          "output_type": "stream",
          "name": "stdout",
          "text": [
            "enter no 1:45\n",
            "enter no 2:2\n",
            "remi 1\n",
            "div 22.5\n"
          ]
        }
      ]
    },
    {
      "cell_type": "code",
      "source": [
        "x=56\n",
        "def set_x():\n",
        "  x=23\n",
        "  print(x)\n",
        "\n",
        "def get_x():\n",
        "   print(x)\n",
        "\n",
        "get_x()\n",
        "set_x()"
      ],
      "metadata": {
        "colab": {
          "base_uri": "https://localhost:8080/"
        },
        "id": "Oy9kjaDBEvEp",
        "outputId": "f61fa2e4-9959-4f73-81f8-d77f4f14b5f2"
      },
      "execution_count": null,
      "outputs": [
        {
          "output_type": "stream",
          "name": "stdout",
          "text": [
            "56\n",
            "23\n"
          ]
        }
      ]
    },
    {
      "cell_type": "code",
      "source": [
        "def sum_all(*num):\n",
        "  return sum (num)\n",
        "print(sum_all(1,3,5,7,9,12,13,))\n",
        "print(sum_all(23,22,44,55,66,77,66,88,99))\n"
      ],
      "metadata": {
        "colab": {
          "base_uri": "https://localhost:8080/"
        },
        "id": "--rSeHZaEz2U",
        "outputId": "871cdaec-608e-4c26-ccd3-b9372f5abb30"
      },
      "execution_count": null,
      "outputs": [
        {
          "output_type": "stream",
          "name": "stdout",
          "text": [
            "50\n",
            "540\n"
          ]
        }
      ]
    },
    {
      "cell_type": "code",
      "source": [
        "from os import name\n",
        "def print_details(**info):\n",
        "  for key, value in info.items():\n",
        "   print(f\"{key}:{value}\")\n",
        "print_details(name='krusha',age=23,city='USA')\n"
      ],
      "metadata": {
        "colab": {
          "base_uri": "https://localhost:8080/"
        },
        "id": "Lh_C1GR4JMoF",
        "outputId": "46a8d8be-f92d-4793-f4c8-3a78c9f4e699"
      },
      "execution_count": null,
      "outputs": [
        {
          "output_type": "stream",
          "name": "stdout",
          "text": [
            "name:krusha\n",
            "age:23\n",
            "city:USA\n"
          ]
        }
      ]
    },
    {
      "cell_type": "code",
      "source": [
        "def fact(n):\n",
        "  if n==1:\n",
        "    return 1\n",
        "  return n* fact(n-1)\n",
        "\n",
        "\n",
        "print(fact(5))"
      ],
      "metadata": {
        "colab": {
          "base_uri": "https://localhost:8080/"
        },
        "id": "Aa8Hm2tXK0_S",
        "outputId": "57fa91ed-aba7-4cbd-983b-4c08dedb5b34"
      },
      "execution_count": null,
      "outputs": [
        {
          "output_type": "stream",
          "name": "stdout",
          "text": [
            "120\n"
          ]
        }
      ]
    },
    {
      "cell_type": "code",
      "source": [
        "a ,b=23,34\n",
        "a= temp\n",
        "a=b\n",
        "b= temp\n",
        "print('a',a)\n",
        "print('b',b)"
      ],
      "metadata": {
        "colab": {
          "base_uri": "https://localhost:8080/"
        },
        "id": "6BIccvn29d7-",
        "outputId": "f3c70441-fcaf-4dcb-bd39-1b76454a5980"
      },
      "execution_count": null,
      "outputs": [
        {
          "output_type": "stream",
          "name": "stdout",
          "text": [
            "a 34\n",
            "b 23\n"
          ]
        }
      ]
    },
    {
      "cell_type": "code",
      "source": [
        "num = int(input(\"Enter a number: \"))\n",
        "fact = 1\n",
        "\n",
        "if num < 0:\n",
        "    print(\"Factorial is not defined for negative numbers.\")\n",
        "elif num == 0:\n",
        "    print(\"Factorial of 0 is 1\")\n",
        "else:\n",
        "    for i in range(1, num + 1):\n",
        "        fact *= i\n",
        "    print(f\"Factorial of {num} is {fact}\")\n",
        "\n"
      ],
      "metadata": {
        "colab": {
          "base_uri": "https://localhost:8080/"
        },
        "id": "YtItNHy7_HPL",
        "outputId": "e51618fe-642c-4804-95e5-ccb97381edff"
      },
      "execution_count": null,
      "outputs": [
        {
          "output_type": "stream",
          "name": "stdout",
          "text": [
            "Enter a number: 4\n",
            "Factorial of 4 is 24\n"
          ]
        }
      ]
    },
    {
      "cell_type": "code",
      "source": [
        "f = int(input(\"Enter number for the series\"))\n",
        "a, b = 0, 1\n",
        "for _ in range(f):\n",
        "    print(a)\n",
        "    a, b = b, a + b\n",
        "# fabonaci serices"
      ],
      "metadata": {
        "colab": {
          "base_uri": "https://localhost:8080/"
        },
        "id": "qWGkJOyzBDCd",
        "outputId": "3ddfe716-378c-4b84-be0d-7e1e3bd5507c"
      },
      "execution_count": null,
      "outputs": [
        {
          "output_type": "stream",
          "name": "stdout",
          "text": [
            "Enter number for the series8\n",
            "0\n",
            "1\n",
            "1\n",
            "2\n",
            "3\n",
            "5\n",
            "8\n",
            "13\n"
          ]
        }
      ]
    },
    {
      "cell_type": "code",
      "source": [
        "f = int(input(\"Enter number for the series\"))\n",
        "a, b = 0, 1\n",
        "for i in range(f):\n",
        "    print(a,end=\" \")\n",
        "    temp =a\n",
        "    a=b\n",
        "    b=temp+b"
      ],
      "metadata": {
        "colab": {
          "base_uri": "https://localhost:8080/"
        },
        "id": "FyPHsz3nE5Di",
        "outputId": "1080bf53-0184-4d02-8c4c-587fda74b927"
      },
      "execution_count": null,
      "outputs": [
        {
          "output_type": "stream",
          "name": "stdout",
          "text": [
            "Enter number for the series6\n",
            "0 1 1 2 3 5 "
          ]
        }
      ]
    },
    {
      "cell_type": "code",
      "source": [
        "st='krusha'\n",
        "rev_st=st[::-1]\n",
        "print(rev_st)"
      ],
      "metadata": {
        "colab": {
          "base_uri": "https://localhost:8080/"
        },
        "id": "usiH4Ej6GXSx",
        "outputId": "c12de11d-7d59-4ae4-ea5c-b3ed95c7dd12"
      },
      "execution_count": null,
      "outputs": [
        {
          "output_type": "stream",
          "name": "stdout",
          "text": [
            "ahsurk\n"
          ]
        }
      ]
    },
    {
      "cell_type": "code",
      "source": [
        "s = \"madam\" # string\n",
        "\n",
        "if s == s[::-1]:\n",
        "    print(\"Yes\")\n",
        "else:\n",
        "    print(\"No\")"
      ],
      "metadata": {
        "colab": {
          "base_uri": "https://localhost:8080/"
        },
        "id": "ZniaZHx3Im4R",
        "outputId": "806d1e3d-ac99-4edb-8069-67c9b54a1301"
      },
      "execution_count": null,
      "outputs": [
        {
          "output_type": "stream",
          "name": "stdout",
          "text": [
            "Yes\n"
          ]
        }
      ]
    },
    {
      "cell_type": "code",
      "source": [
        "num=[12,34,565,78,98,90,99,122,456,76.890]\n",
        "minmum=min(num)\n",
        "maximum=max(num)\n",
        "print(maximum,minmum)"
      ],
      "metadata": {
        "colab": {
          "base_uri": "https://localhost:8080/"
        },
        "id": "ue3pi9hNKGek",
        "outputId": "a4cfbcc2-8677-49df-ff63-e2be61c9916a"
      },
      "execution_count": null,
      "outputs": [
        {
          "output_type": "stream",
          "name": "stdout",
          "text": [
            "565 12\n"
          ]
        }
      ]
    },
    {
      "cell_type": "code",
      "source": [
        "numbers=[10,40,60,30,80,100] # Find Min and Max no of this list\n",
        "\n",
        "minimum = min(numbers)\n",
        "maximum = max(numbers)\n",
        "print(minimum, maximum)"
      ],
      "metadata": {
        "colab": {
          "base_uri": "https://localhost:8080/"
        },
        "id": "l1weKJmuLnro",
        "outputId": "eb21974c-7815-48e3-e006-80b73fadf253"
      },
      "execution_count": null,
      "outputs": [
        {
          "output_type": "stream",
          "name": "stdout",
          "text": [
            "10 100\n"
          ]
        }
      ]
    },
    {
      "cell_type": "markdown",
      "source": [],
      "metadata": {
        "id": "EoOx03cWK-Y1"
      }
    },
    {
      "cell_type": "code",
      "source": [
        "def is_palindrome(s):\n",
        "    return s == s[::-1]\n",
        "\n",
        "print(is_palindrome(\"madam\"))\n",
        "print(is_palindrome(\"hello\"))"
      ],
      "metadata": {
        "colab": {
          "base_uri": "https://localhost:8080/"
        },
        "id": "n-ly95v5KAgn",
        "outputId": "97868915-5653-4ee4-ddb2-c5de348d874b"
      },
      "execution_count": null,
      "outputs": [
        {
          "output_type": "stream",
          "name": "stdout",
          "text": [
            "True\n",
            "False\n"
          ]
        }
      ]
    },
    {
      "cell_type": "code",
      "source": [
        "# remove duplicate from\n",
        "a = [1,2,2,3,1,4,5,6,4,5] # remove duplicates\n",
        "\n",
        "a = list(set(a))\n",
        "\n",
        "print(a)"
      ],
      "metadata": {
        "colab": {
          "base_uri": "https://localhost:8080/"
        },
        "id": "lRYbSO2-LwkJ",
        "outputId": "b0e29ff9-2c57-4ce2-a2f3-a53871ae7b59"
      },
      "execution_count": null,
      "outputs": [
        {
          "output_type": "stream",
          "name": "stdout",
          "text": [
            "[1, 2, 3, 4, 5, 6]\n"
          ]
        }
      ]
    },
    {
      "cell_type": "code",
      "source": [
        "st = input(\"Enter the String: \")\n",
        "word_count = len(st.split())\n",
        "print(f\"Number of words: {word_count}\")"
      ],
      "metadata": {
        "colab": {
          "base_uri": "https://localhost:8080/"
        },
        "id": "osm15SIOM3sc",
        "outputId": "c05f0516-a547-4ccc-d86e-dd9d962ca5b4"
      },
      "execution_count": null,
      "outputs": [
        {
          "output_type": "stream",
          "name": "stdout",
          "text": [
            "Enter the String: krusha\n",
            "Number of words: 1\n"
          ]
        }
      ]
    },
    {
      "cell_type": "code",
      "source": [
        "#list compherhension\n",
        "even_list=[i for i in num if i%2==0]\n",
        "print('even num',even_list)"
      ],
      "metadata": {
        "colab": {
          "base_uri": "https://localhost:8080/"
        },
        "id": "Gr3KttqeP-Ir",
        "outputId": "1ea7302b-340a-4d83-c94c-366a6d3d6d72"
      },
      "execution_count": null,
      "outputs": [
        {
          "output_type": "stream",
          "name": "stdout",
          "text": [
            "even num [12, 34, 78, 98, 90, 122, 456]\n"
          ]
        }
      ]
    },
    {
      "cell_type": "code",
      "source": [
        "#find the square of number\n",
        "num=[1,2,3,4,5,6,7]\n",
        "sq=[num**2 for num in num]\n",
        "print(sq)"
      ],
      "metadata": {
        "colab": {
          "base_uri": "https://localhost:8080/"
        },
        "id": "5cfbrrIWQzxn",
        "outputId": "ebd3e4fb-8932-4297-f43c-6490f5722b1f"
      },
      "execution_count": null,
      "outputs": [
        {
          "output_type": "stream",
          "name": "stdout",
          "text": [
            "[1, 4, 9, 16, 25, 36, 49]\n"
          ]
        }
      ]
    },
    {
      "cell_type": "code",
      "source": [
        "#extract first letter of each word\n",
        "st=['krusha','milin','malav','kinnu','tarun']\n",
        "fst_case=[w[0]for w in st]\n",
        "print(fst_case)"
      ],
      "metadata": {
        "colab": {
          "base_uri": "https://localhost:8080/"
        },
        "id": "nVfQVIqkRvf7",
        "outputId": "7b0eebdc-b91e-4667-be72-5b6ad12ac90b"
      },
      "execution_count": null,
      "outputs": [
        {
          "output_type": "stream",
          "name": "stdout",
          "text": [
            "['k', 'm', 'm', 'k', 't']\n"
          ]
        }
      ]
    },
    {
      "cell_type": "code",
      "source": [
        "#reverse string in list\n",
        "rev_st=[w[::-1] for w in st]\n",
        "print(rev_st)"
      ],
      "metadata": {
        "colab": {
          "base_uri": "https://localhost:8080/"
        },
        "id": "bQU_vpKmSrjb",
        "outputId": "fa783f75-4d4c-407a-cc92-637592639e20"
      },
      "execution_count": null,
      "outputs": [
        {
          "output_type": "stream",
          "name": "stdout",
          "text": [
            "['ahsurk', 'nilim', 'valam', 'unnik', 'nurat']\n"
          ]
        }
      ]
    },
    {
      "cell_type": "code",
      "source": [
        "#get the length of each word\n",
        "count_st=[len(w) for w in st]\n",
        "print(count_st)"
      ],
      "metadata": {
        "colab": {
          "base_uri": "https://localhost:8080/"
        },
        "id": "jV5cSfWrTG1R",
        "outputId": "42db262a-bcda-4cca-e7dd-e07f25f8a1b5"
      },
      "execution_count": null,
      "outputs": [
        {
          "output_type": "stream",
          "name": "stdout",
          "text": [
            "[6, 5, 5, 5, 5]\n"
          ]
        }
      ]
    },
    {
      "cell_type": "code",
      "source": [],
      "metadata": {
        "id": "Mcu2jqcgfRyJ"
      },
      "execution_count": null,
      "outputs": []
    },
    {
      "cell_type": "markdown",
      "source": [],
      "metadata": {
        "id": "Rps-3qIjRP5H"
      }
    }
  ]
}